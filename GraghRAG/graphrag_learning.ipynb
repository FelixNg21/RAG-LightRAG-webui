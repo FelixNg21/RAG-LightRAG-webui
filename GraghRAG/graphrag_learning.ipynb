{
 "cells": [
  {
   "cell_type": "code",
   "id": "initial_id",
   "metadata": {
    "collapsed": true,
    "ExecuteTime": {
     "end_time": "2025-01-24T20:31:36.145229Z",
     "start_time": "2025-01-24T20:31:30.964814Z"
    }
   },
   "source": "%pip install --upgrade --quiet  langchain langchain-community langchain-ollama langchain-experimental neo4j tiktoken yfiles_jupyter_graphs python-dotenv json-repair langchain-openai langchain_core langchain-neo4j",
   "outputs": [
    {
     "name": "stdout",
     "output_type": "stream",
     "text": [
      "Note: you may need to restart the kernel to use updated packages.\n"
     ]
    }
   ],
   "execution_count": 1
  },
  {
   "metadata": {
    "ExecuteTime": {
     "end_time": "2025-01-25T01:19:53.035929Z",
     "start_time": "2025-01-25T01:19:50.982072Z"
    }
   },
   "cell_type": "code",
   "source": [
    "from langchain_core.runnables import  RunnablePassthrough\n",
    "from langchain_core.prompts import ChatPromptTemplate\n",
    "from pydantic import BaseModel, Field\n",
    "from langchain_core.output_parsers import StrOutputParser\n",
    "from langchain_neo4j import Neo4jGraph\n",
    "from langchain.text_splitter import RecursiveCharacterTextSplitter\n",
    "\n",
    "from langchain_experimental.graph_transformers import LLMGraphTransformer\n",
    "from neo4j import GraphDatabase\n",
    "from yfiles_jupyter_graphs import GraphWidget\n",
    "from langchain_community.vectorstores import Neo4jVector\n",
    "from langchain_community.document_loaders import TextLoader\n",
    "from langchain_community.vectorstores.neo4j_vector import remove_lucene_chars\n",
    "from langchain_ollama import OllamaEmbeddings, ChatOllama\n",
    "import os\n",
    "from neo4j import Driver\n",
    "\n",
    "from dotenv import load_dotenv\n",
    "\n",
    "load_dotenv(override=True)"
   ],
   "id": "98eb86a33166c540",
   "outputs": [
    {
     "data": {
      "text/plain": [
       "True"
      ]
     },
     "execution_count": 1,
     "metadata": {},
     "output_type": "execute_result"
    }
   ],
   "execution_count": 1
  },
  {
   "metadata": {
    "ExecuteTime": {
     "end_time": "2025-01-25T01:19:57.118773Z",
     "start_time": "2025-01-25T01:19:55.760267Z"
    }
   },
   "cell_type": "code",
   "source": "graph = Neo4jGraph()",
   "id": "c6998b90059645f3",
   "outputs": [],
   "execution_count": 2
  },
  {
   "metadata": {
    "ExecuteTime": {
     "end_time": "2025-01-25T01:19:57.341921Z",
     "start_time": "2025-01-25T01:19:57.335586Z"
    }
   },
   "cell_type": "code",
   "source": [
    "loader = TextLoader(file_path=\"dummytext.txt\")\n",
    "docs = loader.load()\n",
    "\n",
    "text_splitter = RecursiveCharacterTextSplitter(chunk_size=400, chunk_overlap=100)\n",
    "documents = text_splitter.split_documents(documents=docs)"
   ],
   "id": "3e5018e990e53ed4",
   "outputs": [],
   "execution_count": 3
  },
  {
   "metadata": {
    "ExecuteTime": {
     "end_time": "2025-01-25T01:19:59.756338Z",
     "start_time": "2025-01-25T01:19:59.455231Z"
    }
   },
   "cell_type": "code",
   "source": [
    "llm = ChatOllama(model=\"llama3.1\", temperature=0)\n",
    "# llm = OllamaFunctions(model=\"llama3.2\", temperature=0)\n",
    "llm_transformer = LLMGraphTransformer(llm=llm)\n",
    "\n"
   ],
   "id": "823a55e5e13fd86e",
   "outputs": [],
   "execution_count": 4
  },
  {
   "metadata": {
    "ExecuteTime": {
     "end_time": "2025-01-25T01:21:33.207180Z",
     "start_time": "2025-01-25T01:19:59.812084Z"
    }
   },
   "cell_type": "code",
   "source": "graph_documents = llm_transformer.convert_to_graph_documents(documents)",
   "id": "9d5784e96a255dc7",
   "outputs": [],
   "execution_count": 5
  },
  {
   "metadata": {
    "ExecuteTime": {
     "end_time": "2025-01-25T01:21:33.214523Z",
     "start_time": "2025-01-25T01:21:33.208183Z"
    }
   },
   "cell_type": "code",
   "source": "graph_documents",
   "id": "99f4e1e8d83252cc",
   "outputs": [
    {
     "data": {
      "text/plain": [
       "[GraphDocument(nodes=[Node(id=\"Amico'S Family\", type='Family', properties={}), Node(id='Legacy', type='Concept', properties={}), Node(id='Love', type='Emotion', properties={}), Node(id='Tradition', type='Concept', properties={})], relationships=[], source=Document(metadata={'source': 'dummytext.txt'}, page_content='1. The Story of Amicoâ€™s Family: A Legacy of Love and Tradition')),\n",
       " GraphDocument(nodes=[Node(id='Santa Caterina', type='Location', properties={}), Node(id='Caruso Family', type='Person', properties={})], relationships=[], source=Document(metadata={'source': 'dummytext.txt'}, page_content=\"In the idyllic village of Santa Caterina, amidst the rolling hills and sun-kissed landscapes of Sicily, lies the genesis of the Caruso family, a lineage intertwined with the island's rich culinary tapestry. The Carusos were not mere inhabitants of the land; they were the keepers of a culinary heritage that spanned generations. Each family member contributed their unique flair, crafting a\")),\n",
       " GraphDocument(nodes=[Node(id='Family', type='Person', properties={}), Node(id='Narrative', type='Food', properties={})], relationships=[], source=Document(metadata={'source': 'dummytext.txt'}, page_content='heritage that spanned generations. Each family member contributed their unique flair, crafting a narrative of flavors that reflected their diverse experiences and deep-seated love for food.')),\n",
       " GraphDocument(nodes=[Node(id='Giovanni Caruso', type='Person', properties={}), Node(id='Maria', type='Person', properties={})], relationships=[], source=Document(metadata={'source': 'dummytext.txt'}, page_content='Giovanni Caruso and Maria: The Founding Generation')),\n",
       " GraphDocument(nodes=[Node(id='Giovanni Caruso', type='Person', properties={}), Node(id='Maria', type='Person', properties={})], relationships=[], source=Document(metadata={'source': 'dummytext.txt'}, page_content=\"Giovanni Caruso, Amico's great-grandfather, was a man of the earth. His calloused hands spoke of years spent cultivating the fertile soils of Santa Caterina, producing olives and grapes that were the pride of the region. Giovanni was not just a farmer but an alchemist of flavors, blending the fruits of his labor into exquisite oils and wines. His wife, Maria, was the soul of the kitchen. A\")),\n",
       " GraphDocument(nodes=[Node(id='Maria', type='Person', properties={}), Node(id='Sicilian Kitchen', type='Concept', properties={}), Node(id='Hearty Stews', type='Dish', properties={}), Node(id='Delicate Pastries', type='Dish', properties={}), Node(id='Exquisite Oils', type='Product', properties={}), Node(id='Wines', type='Product', properties={})], relationships=[], source=Document(metadata={'source': 'dummytext.txt'}, page_content=\"fruits of his labor into exquisite oils and wines. His wife, Maria, was the soul of the kitchen. A masterful cook, Maria's dishes were a symphony of hearty stews and delicate pastries, passed down from her ancestors and refined with her own touch. The couple's home was a haven of culinary experimentation and love, where their children were introduced to the secrets of the Sicilian kitchen.\")),\n",
       " GraphDocument(nodes=[Node(id='Antonio Caruso', type='Person', properties={})], relationships=[], source=Document(metadata={'source': 'dummytext.txt'}, page_content='Antonio Caruso: The Storyteller and Innovator')),\n",
       " GraphDocument(nodes=[Node(id='Antonio', type='Person', properties={}), Node(id='Giovanni', type='Person', properties={}), Node(id='Maria', type='Person', properties={})], relationships=[], source=Document(metadata={'source': 'dummytext.txt'}, page_content=\"Antonio, Giovanni and Maria's eldest son, inherited his parents' passion but added his flair for innovation. A charismatic storyteller, Antonio was known for captivating his family and the village with tales of their ancestry and the island's history. His culinary prowess was unmatched, blending traditional Sicilian flavors with inventive techniques he picked up from his travels across Italy.\")),\n",
       " GraphDocument(nodes=[Node(id='Antonio', type='Person', properties={}), Node(id='Italy', type='Location', properties={}), Node(id='Sicily', type='Location', properties={}), Node(id='Tuscany', type='Location', properties={})], relationships=[], source=Document(metadata={'source': 'dummytext.txt'}, page_content=\"traditional Sicilian flavors with inventive techniques he picked up from his travels across Italy. Antonio became the village's go-to chef for weddings and grand feasts, creating dishes that were both nostalgic and avant-garde. His most famous creation, a fusion of Sicilian and Tuscan flavors, laid the groundwork for what would later become Amico's signature style.\")),\n",
       " GraphDocument(nodes=[Node(id='Pietro', type='Person', properties={}), Node(id='Sofia', type='Person', properties={})], relationships=[], source=Document(metadata={'source': 'dummytext.txt'}, page_content='Pietro and Sofia: The Guardians of Tradition')),\n",
       " GraphDocument(nodes=[Node(id='Pietro', type='Person', properties={}), Node(id='Antonio', type='Person', properties={}), Node(id='Sofia', type='Person', properties={})], relationships=[], source=Document(metadata={'source': 'dummytext.txt'}, page_content=\"Pietro, Antonio's eldest son, was a skilled fisherman who loved the sea as much as the kitchen. His daily catches were the freshest seafood in the village, a staple in the family trattoria he ran with his wife, Sofia. Sofia was a baker par excellence, known for her incredible pastries and bread. Together, they transformed the trattoria into a local institution, famous for its warm hospitality and\")),\n",
       " GraphDocument(nodes=[Node(id='Trattoria', type='Place', properties={}), Node(id='Pietro', type='Person', properties={}), Node(id='Sofia', type='Person', properties={}), Node(id='Amico', type='Person', properties={})], relationships=[], source=Document(metadata={'source': 'dummytext.txt'}, page_content='they transformed the trattoria into a local institution, famous for its warm hospitality and authentic flavors. The trattoria was a microcosm of Sicilian culture, where stories were shared over plates of fresh pasta and glasses of homemade wine. Pietro and Sofia instilled in their children, including Amico, the values of hard work, respect for tradition, and the joy of feeding others.')),\n",
       " GraphDocument(nodes=[Node(id='Nonna Lucia', type='Person', properties={}), Node(id='The Matriarch And Mentor', type='Title', properties={})], relationships=[], source=Document(metadata={'source': 'dummytext.txt'}, page_content='Nonna Lucia: The Matriarch and Mentor')),\n",
       " GraphDocument(nodes=[Node(id='Lucia', type='Person', properties={}), Node(id='Antonio', type='Person', properties={}), Node(id='Amico', type='Person', properties={}), Node(id='Caruso Family', type='Family', properties={})], relationships=[], source=Document(metadata={'source': 'dummytext.txt'}, page_content=\"Lucia, Antonio's sister and Amico's grandmother, was the matriarch of the Caruso family. A culinary sage, Nonna Lucia was the custodian of the family's recipes, a role she took very seriously. Her kitchen was a sacred space, where she taught her grandchildren the art of Sicilian cooking. Under her watchful eye, Amico learned the delicate balance of flavors in a Caponata and the intricate process\")),\n",
       " GraphDocument(nodes=[Node(id='Watchful Eye', type='Concept', properties={}), Node(id='Amico', type='Person', properties={}), Node(id='Caponata', type='Dish', properties={}), Node(id='Nonna Lucia', type='Person', properties={}), Node(id='Fresh Pasta', type='Food', properties={})], relationships=[], source=Document(metadata={'source': 'dummytext.txt'}, page_content=\"watchful eye, Amico learned the delicate balance of flavors in a Caponata and the intricate process of making fresh pasta. Nonna Lucia's influence extended beyond the kitchen; she was a pillar of strength and wisdom, guiding her family with love and a firm hand. Her teachings went beyond recipes, imparting lessons about life, love, and the importance of community.\")),\n",
       " GraphDocument(nodes=[Node(id=\"Amico'S Family\", type='Person', properties={}), Node(id='Other Restaurants', type='Organization', properties={})], relationships=[], source=Document(metadata={'source': 'dummytext.txt'}, page_content=\"2. Other Restaurants Owned by Amico's Family: A Culinary Empire\")),\n",
       " GraphDocument(nodes=[Node(id='Caruso Family', type='Person', properties={}), Node(id='Italian Cuisine', type='Food', properties={})], relationships=[], source=Document(metadata={'source': 'dummytext.txt'}, page_content='As the Caruso family grew, so did their culinary empire. Each member, having honed their skills under the tutelage of another, ventured into different regions, opening restaurants that showcased their unique interpretations of Italian cuisine. These establishments, while diverse in their offerings, were united by a common thread: a deep respect for tradition and a commitment to excellence.')),\n",
       " GraphDocument(nodes=[Node(id='La Dolce Vita', type='Movie', properties={}), Node(id='Rome', type='City', properties={}), Node(id='Antonio Caruso', type='Person', properties={})], relationships=[], source=Document(metadata={'source': 'dummytext.txt'}, page_content='1. La Dolce Vita - Rome: Owned by Antonio Caruso')),\n",
       " GraphDocument(nodes=[Node(id='Antonio', type='Person', properties={}), Node(id='Rome', type='City', properties={}), Node(id='La Dolce Vita', type='Restaurant', properties={}), Node(id='Trevi Fountain', type='Landmark', properties={})], relationships=[], source=Document(metadata={'source': 'dummytext.txt'}, page_content='After years of perfecting his craft in Santa Caterina, Antonio ventured to Rome, the Eternal City, where he opened \"La Dolce Vita.\" Situated near the iconic Trevi Fountain, this restaurant was Antonio\\'s ode to Rome\\'s vibrant culture. Antonio brought his innovative spirit to the city\\'s classic dishes, offering a menu that included Cacio e Pepe and Carbonara, alongside his signature Truffle Risotto')),\n",
       " GraphDocument(nodes=[Node(id='Cacio E Pepe', type='Dish', properties={}), Node(id='Carbonara', type='Dish', properties={}), Node(id='Truffle Risotto With Pecorino Romano', type='Dish', properties={}), Node(id='La Dolce Vita', type='Restaurant', properties={}), Node(id='Antonio', type='Person', properties={}), Node(id='Giovanni', type='Person', properties={})], relationships=[], source=Document(metadata={'source': 'dummytext.txt'}, page_content='offering a menu that included Cacio e Pepe and Carbonara, alongside his signature Truffle Risotto with Pecorino Romano. The restaurant\\'s elegant ambiance, featuring live classical music, made it a popular destination. Antonio\\'s ability to blend tradition with modernity, a skill he had honed from his father Giovanni, made \"La Dolce Vita\" a culinary landmark in Rome.')),\n",
       " GraphDocument(nodes=[Node(id='Il Mare Nostrum', type='Place', properties={}), Node(id='Amalfi Coast', type='Location', properties={}), Node(id='Pietro Caruso', type='Person', properties={})], relationships=[], source=Document(metadata={'source': 'dummytext.txt'}, page_content='2. Il Mare Nostrum - Amalfi Coast: Owned by Pietro Caruso')),\n",
       " GraphDocument(nodes=[Node(id='Pietro', type='Person', properties={}), Node(id='Il Mare Nostrum', type='Restaurant', properties={}), Node(id='Amalfi Coast', type='Location', properties={}), Node(id='Sofia', type='Person', properties={})], relationships=[], source=Document(metadata={'source': 'dummytext.txt'}, page_content='Pietro, having inherited his father\\'s love for the sea, opened \"Il Mare Nostrum\" on the breathtaking Amalfi Coast. This restaurant was a celebration of Italy\\'s coastal cuisine, with a focus on the freshest seafood. Pietro\\'s expertise in fishing ensured that the daily catch was of the highest quality, while his wife Sofia\\'s baking skills added a unique twist to the menu. Signature dishes like')),\n",
       " GraphDocument(nodes=[Node(id='Sofia', type='Person', properties={}), Node(id='Il Mare Nostrum', type='Restaurant', properties={})], relationships=[], source=Document(metadata={'source': 'dummytext.txt'}, page_content='while his wife Sofia\\'s baking skills added a unique twist to the menu. Signature dishes like Grilled Octopus with Lemon and Herbs and Spaghetti alle Vongole became instant classics. The stunning views of the Mediterranean, coupled with the restaurant\\'s serene ambiance, made \"Il Mare Nostrum\" a must-visit for anyone exploring the Amalfi Coast.')),\n",
       " GraphDocument(nodes=[Node(id='La Terra Di Siena', type='Place', properties={}), Node(id='Tuscany', type='Region', properties={}), Node(id='Sofia Caruso', type='Person', properties={})], relationships=[], source=Document(metadata={'source': 'dummytext.txt'}, page_content='3. La Terra di Siena - Tuscany: Owned by Sofia Caruso')),\n",
       " GraphDocument(nodes=[Node(id='Sofia', type='Person', properties={}), Node(id='La Terra Di Siena', type='Restaurant', properties={})], relationships=[], source=Document(metadata={'source': 'dummytext.txt'}, page_content='Sofia, the family\\'s talented baker, found her calling amidst the rolling hills of Tuscany. She opened \"La Terra di Siena,\" a rustic retreat that emphasized a farm-to-table dining experience. The restaurant, housed in a beautifully restored farmhouse, showcased the best of Tuscan cuisine, from Bistecca alla Fiorentina to Pappardelle al Cinghiale. Sofia\\'s desserts, particularly her Tiramisu and')),\n",
       " GraphDocument(nodes=[Node(id='Sofia', type='Person', properties={}), Node(id='Fiorentina', type='Dish', properties={}), Node(id='Pappardelle Al Cinghiale', type='Dish', properties={}), Node(id='Tiramisu', type='Dessert', properties={}), Node(id='Panna Cotta', type='Dessert', properties={})], relationships=[], source=Document(metadata={'source': 'dummytext.txt'}, page_content=\"alla Fiorentina to Pappardelle al Cinghiale. Sofia's desserts, particularly her Tiramisu and Panna Cotta, were legendary, attracting visitors from far and wide. The restaurant's picturesque setting, surrounded by vineyards and olive groves, provided a perfect backdrop for wine tastings and intimate dinners. Sofia's attention to detail and her commitment to using locally sourced ingredients made\")),\n",
       " GraphDocument(nodes=[Node(id='Sofia', type='Person', properties={}), Node(id='La Terra Di Siena', type='Restaurant', properties={})], relationships=[], source=Document(metadata={'source': 'dummytext.txt'}, page_content='dinners. Sofia\\'s attention to detail and her commitment to using locally sourced ingredients made \"La Terra di Siena\" a favorite among food enthusiasts.')),\n",
       " GraphDocument(nodes=[Node(id='Amico’S', type='Business', properties={}), Node(id='New York City', type='Location', properties={}), Node(id='Amico Caruso', type='Person', properties={})], relationships=[], source=Document(metadata={'source': 'dummytext.txt'}, page_content=\"4. Amico's - New York City: Owned by Amico Caruso\")),\n",
       " GraphDocument(nodes=[Node(id='Amico', type='Person', properties={}), Node(id='New York City', type='Location', properties={}), Node(id=\"Amico'S\", type='Restaurant', properties={})], relationships=[], source=Document(metadata={'source': 'dummytext.txt'}, page_content='Amico, inspired by his family\\'s culinary legacy and his travels, opened \"Amico\\'s\" in the bustling metropolis of New York City. The restaurant was a modern take on Italian cuisine, blending traditional recipes with contemporary trends. The menu featured a range of dishes, from Porcini Mushroom Risotto to Burrata with Heirloom Tomatoes. Amico\\'s passion for Sicilian cuisine was evident in every')),\n",
       " GraphDocument(nodes=[Node(id='Burrata', type='Dish', properties={}), Node(id='Heirloom Tomatoes', type='Ingredient', properties={}), Node(id=\"Amico'S\", type='Restaurant', properties={})], relationships=[], source=Document(metadata={'source': 'dummytext.txt'}, page_content='to Burrata with Heirloom Tomatoes. Amico\\'s passion for Sicilian cuisine was evident in every dish, but he also incorporated influences from his experiences across Italy and beyond. \"Amico\\'s\" quickly became a culinary hotspot, attracting a diverse clientele, including celebrities and food critics. The restaurant\\'s chic interior and Amico\\'s charismatic presence made it a standout in the competitive')),\n",
       " GraphDocument(nodes=[Node(id='Restaurant', type='Person', properties={}), Node(id='Amico', type='Location', properties={})], relationships=[], source=Document(metadata={'source': 'dummytext.txt'}, page_content=\"restaurant's chic interior and Amico's charismatic presence made it a standout in the competitive New York dining scene.\")),\n",
       " GraphDocument(nodes=[Node(id='Bella Vita', type='Restaurant', properties={}), Node(id='Los Angeles', type='City', properties={}), Node(id='Lucia Caruso', type='Person', properties={})], relationships=[], source=Document(metadata={'source': 'dummytext.txt'}, page_content='5. Bella Vita - Los Angeles: Owned by Lucia Caruso')),\n",
       " GraphDocument(nodes=[Node(id='Lucia', type='Person', properties={}), Node(id='Grandmother', type='Person', properties={}), Node(id='Bella Vita', type='Restaurant', properties={})], relationships=[], source=Document(metadata={'source': 'dummytext.txt'}, page_content='Lucia, named after her grandmother and inheriting her culinary talent, brought a piece of Sicily to sunny Los Angeles with \"Bella Vita.\" Lucia was a creative force, combining her grandmother\\'s traditional recipes with her flair for innovation. The restaurant offered a menu that catered to LA\\'s diverse and health-conscious population, featuring dishes like gluten-free pasta and organic salads,')),\n",
       " GraphDocument(nodes=[Node(id='Bella Vita', type='Restaurant', properties={}), Node(id='Lucia', type='Person', properties={}), Node(id='Lasagna', type='Dish', properties={}), Node(id='Cannoli', type='Dish', properties={}), Node(id='Gluten-Free Pasta', type='Dish', properties={}), Node(id='Organic Salads', type='Dish', properties={})], relationships=[], source=Document(metadata={'source': 'dummytext.txt'}, page_content='and health-conscious population, featuring dishes like gluten-free pasta and organic salads, alongside indulgent classics like Lasagna and Cannoli. \"Bella Vita\\'s\" rooftop bar, offering panoramic views of the city, became a popular spot for enjoying Italian-inspired cocktails and small plates. Lucia\\'s commitment to sustainability and her support for local artists made \"Bella Vita\" a hub for food,')),\n",
       " GraphDocument(nodes=[Node(id='Bella Vita', type='Place', properties={}), Node(id='Commitment To Sustainability', type='Concept', properties={}), Node(id='Local Artists', type='Group', properties={})], relationships=[], source=Document(metadata={'source': 'dummytext.txt'}, page_content='commitment to sustainability and her support for local artists made \"Bella Vita\" a hub for food, art, and culture.')),\n",
       " GraphDocument(nodes=[Node(id='Caruso Family', type='Person', properties={}), Node(id=\"Amico'S Community Involvement And Social Causes\", type='Organization', properties={})], relationships=[], source=Document(metadata={'source': 'dummytext.txt'}, page_content=\"3. Amicoâ€™s Community Involvement and Social Causes\\nThe Caruso family's influence extended beyond their restaurants, as they collectively believed in the power of food to make a difference. Their commitment to social causes was a cornerstone of their philosophy, reflected in various initiatives aimed at giving back to the community and promoting cultural exchange.\")),\n",
       " GraphDocument(nodes=[Node(id='Culinary Workshops', type='Event', properties={}), Node(id='Mentorship Programs', type='Program', properties={})], relationships=[], source=Document(metadata={'source': 'dummytext.txt'}, page_content='1. Culinary Workshops and Mentorship Programs')),\n",
       " GraphDocument(nodes=[Node(id='Caruso Family', type='Family', properties={}), Node(id='Antonio', type='Person', properties={}), Node(id='Pietro', type='Person', properties={}), Node(id='Sofia', type='Person', properties={}), Node(id='Lucia', type='Person', properties={})], relationships=[], source=Document(metadata={'source': 'dummytext.txt'}, page_content='Each member of the Caruso family played a role in nurturing the next generation of chefs. Antonio hosted workshops in Rome, sharing his innovative techniques, while Pietro and Sofia offered classes in seafood preparation and baking, respectively. Lucia, in Los Angeles, focused on sustainable cooking practices, teaching aspiring chefs the importance of using organic and local ingredients. These')),\n",
       " GraphDocument(nodes=[Node(id='Practices', type='Organization', properties={}), Node(id='Teaching Aspiring Chefs', type='Event', properties={}), Node(id='Organic And Local Ingredients', type='Concept', properties={}), Node(id='Workshops', type='Event', properties={}), Node(id=\"Family'S Mentorship Programs\", type='Program', properties={})], relationships=[], source=Document(metadata={'source': 'dummytext.txt'}, page_content=\"practices, teaching aspiring chefs the importance of using organic and local ingredients. These workshops provided invaluable hands-on experience, and the family's mentorship programs offered guidance and support to young chefs from diverse backgrounds.\")),\n",
       " GraphDocument(nodes=[Node(id='Farm-To-Table_Initiatives', type='Concept', properties={}), Node(id='Food', type='Entity', properties={})], relationships=[], source=Document(metadata={'source': 'dummytext.txt'}, page_content='2. Farm-to-Table Initiatives')),\n",
       " GraphDocument(nodes=[Node(id='Carusos', type='Person', properties={}), Node(id='Amico', type='Person', properties={}), Node(id='Farm-To-Table', type='Concept', properties={})], relationships=[], source=Document(metadata={'source': 'dummytext.txt'}, page_content='The Carusos were strong advocates for sustainable and ethical food practices. Amico, in particular, spearheaded the \"Farm-to-Table\" initiative, collaborating with local farmers and producers across all their restaurants. This initiative ensured that their establishments used only the freshest, locally sourced ingredients, promoting environmental sustainability and supporting the local economy.')),\n",
       " GraphDocument(nodes=[Node(id='Sourced Ingredients', type='Concept', properties={}), Node(id='Environmental Sustainability', type='Concept', properties={}), Node(id='Local Economy', type='Concept', properties={}), Node(id='Seasonal Produce', type='Concept', properties={}), Node(id='Organic Produce', type='Concept', properties={})], relationships=[], source=Document(metadata={'source': 'dummytext.txt'}, page_content='sourced ingredients, promoting environmental sustainability and supporting the local economy. The family also worked together to raise awareness about the benefits of consuming seasonal and organic produce.')),\n",
       " GraphDocument(nodes=[Node(id='Food For All', type='Organization', properties={}), Node(id='Community Kitchens', type='Concept', properties={}), Node(id='Food Drives', type='Concept', properties={})], relationships=[], source=Document(metadata={'source': 'dummytext.txt'}, page_content='3. Food for All: Community Kitchens and Food Drives')),\n",
       " GraphDocument(nodes=[Node(id='Carusos', type='Person', properties={}), Node(id='Food For All', type='Organization', properties={}), Node(id='Community Kitchens', type='Location', properties={}), Node(id='Homeless', type='Group', properties={}), Node(id='Low-Income Families', type='Group', properties={})], relationships=[], source=Document(metadata={'source': 'dummytext.txt'}, page_content='In their efforts to address food insecurity, the Carusos launched the \"Food for All\" initiative, setting up community kitchens in each city where they had restaurants. These kitchens provided free meals to the homeless and low-income families, ensuring that everyone had access to nutritious food. Additionally, they organized food drives, collecting donations from patrons and local businesses. The')),\n",
       " GraphDocument(nodes=[Node(id='Food Drive', type='Event', properties={}), Node(id='Donations', type='Resource', properties={}), Node(id='Patrons', type='Entity', properties={}), Node(id='Local Businesses', type='Entity', properties={}), Node(id='Family', type='Group', properties={})], relationships=[], source=Document(metadata={'source': 'dummytext.txt'}, page_content='they organized food drives, collecting donations from patrons and local businesses. The initiative was a family effort, with each member contributing their skills and resources to help those in need.')),\n",
       " GraphDocument(nodes=[Node(id='Culturalfestivals', type='Event', properties={}), Node(id='Culinaryfestivals', type='Event', properties={})], relationships=[], source=Document(metadata={'source': 'dummytext.txt'}, page_content='4. Cultural and Culinary Festivals')),\n",
       " GraphDocument(nodes=[Node(id='Carusos', type='Person', properties={}), Node(id='Sicilian Dishes', type='Food', properties={}), Node(id='International Cuisines', type='Food', properties={}), Node(id='Festivals', type='Event', properties={})], relationships=[], source=Document(metadata={'source': 'dummytext.txt'}, page_content='The Carusos believed in celebrating diversity through food and culture. They organized annual cultural and culinary festivals at their respective restaurants, showcasing traditional Sicilian dishes alongside other international cuisines. These festivals featured live performances, cooking demonstrations, and artisan markets, creating a vibrant and inclusive atmosphere. The events were not only a')),\n",
       " GraphDocument(nodes=[Node(id='Artisan Market', type='Place', properties={}), Node(id='Cultural Event', type='Event', properties={})], relationships=[], source=Document(metadata={'source': 'dummytext.txt'}, page_content='and artisan markets, creating a vibrant and inclusive atmosphere. The events were not only a celebration of food but also a platform for cultural exchange, bringing people from different backgrounds together.')),\n",
       " GraphDocument(nodes=[Node(id='Support For Local Artists And Artisans', type='Concept', properties={})], relationships=[], source=Document(metadata={'source': 'dummytext.txt'}, page_content='5. Support for Local Artists and Artisans')),\n",
       " GraphDocument(nodes=[Node(id='Caruso Family', type='Person', properties={}), Node(id='Amico', type='Person', properties={}), Node(id='Art', type='Concept', properties={}), Node(id='Food', type='Concept', properties={})], relationships=[], source=Document(metadata={'source': 'dummytext.txt'}, page_content=\"Art and food were intertwined in the Caruso family's philosophy. Each restaurant featured works by local artists, from paintings and sculptures to handcrafted ceramics. Amico, in particular, was a strong advocate for the arts, hosting exhibitions and events that promoted local talent. The family's support extended beyond the visual arts, as they also collaborated with local musicians and\")),\n",
       " GraphDocument(nodes=[Node(id='Support', type='Organization', properties={}), Node(id='Musicians', type='Person', properties={}), Node(id='Performers', type='Person', properties={})], relationships=[], source=Document(metadata={'source': 'dummytext.txt'}, page_content='support extended beyond the visual arts, as they also collaborated with local musicians and performers, enriching the cultural experience at their establishments.')),\n",
       " GraphDocument(nodes=[Node(id='Entity1', properties={}), Node(id='Entity2', properties={})], relationships=[], source=Document(metadata={'source': 'dummytext.txt'}, page_content='Conclusion')),\n",
       " GraphDocument(nodes=[Node(id='Caruso Family', type='Person', properties={}), Node(id='Santa Caterina', type='Location', properties={}), Node(id='New York City', type='Location', properties={})], relationships=[], source=Document(metadata={'source': 'dummytext.txt'}, page_content=\"The Caruso family's story is a rich tapestry of love, tradition, and culinary excellence. From the picturesque village of Santa Caterina to the bustling streets of New York City, they have left an indelible mark on the culinary world. Each family member, with their unique background and talents, has contributed to the family's legacy, creating a culinary empire that spans continents. Their\")),\n",
       " GraphDocument(nodes=[Node(id='Caruso Family', type='Person', properties={}), Node(id='Caruso Family Legacy', type='Organization', properties={})], relationships=[], source=Document(metadata={'source': 'dummytext.txt'}, page_content=\"has contributed to the family's legacy, creating a culinary empire that spans continents. Their commitment to social causes and community involvement reflects their belief in the power of food to connect people and make a positive impact. The Caruso family's journey is a testament to the enduring power of tradition, innovation, and the joy of sharing good food with others.\"))]"
      ]
     },
     "execution_count": 6,
     "metadata": {},
     "output_type": "execute_result"
    }
   ],
   "execution_count": 6
  },
  {
   "metadata": {
    "ExecuteTime": {
     "end_time": "2025-01-23T02:55:57.567194Z",
     "start_time": "2025-01-23T02:55:56.249552Z"
    }
   },
   "cell_type": "code",
   "source": [
    "graph.add_graph_documents(\n",
    "    graph_documents,\n",
    "    baseEntityLabel=True,\n",
    "    include_source=True\n",
    ")"
   ],
   "id": "5a47d91250889ebf",
   "outputs": [],
   "execution_count": 10
  },
  {
   "metadata": {
    "ExecuteTime": {
     "end_time": "2025-01-24T22:08:30.803475Z",
     "start_time": "2025-01-24T22:08:29.563413Z"
    }
   },
   "cell_type": "code",
   "source": [
    "def showGraph():\n",
    "    driver= GraphDatabase.driver(\n",
    "        uri = os.environ[\"NEO4J_URI\"],\n",
    "        auth = (os.environ[\"NEO4J_USERNAME\"],\n",
    "                os.environ[\"NEO4J_PASSWORD\"]))\n",
    "    session = driver.session()\n",
    "    widget=GraphWidget(graph=session.run(\"MATCH (s)-[r:!MENTIONS]->(t) RETURN s,r,t\").graph())\n",
    "    widget.node_label_mapping = 'id'\n",
    "    return widget  \n",
    "\n",
    "showGraph()"
   ],
   "id": "13e7f232f6752e42",
   "outputs": [
    {
     "data": {
      "text/plain": [
       "GraphWidget(layout=Layout(height='500px', width='100%'))"
      ],
      "application/vnd.jupyter.widget-view+json": {
       "version_major": 2,
       "version_minor": 0,
       "model_id": "7a37c4d80b7f4bdf8890b937c3deab0c"
      }
     },
     "metadata": {},
     "output_type": "display_data"
    }
   ],
   "execution_count": 8
  },
  {
   "metadata": {
    "ExecuteTime": {
     "end_time": "2025-01-25T01:18:42.097624Z",
     "start_time": "2025-01-25T01:18:41.675576Z"
    }
   },
   "cell_type": "code",
   "source": [
    "embeddings = OllamaEmbeddings(\n",
    "    model=\"nomic-embed-text\",\n",
    ")\n",
    "\n",
    "vector_index = Neo4jVector.from_existing_graph(\n",
    "    embeddings,\n",
    "    search_type=\"hybrid\",\n",
    "    node_label=\"Document\",\n",
    "    text_node_properties=[\"text\"],\n",
    "    embedding_node_property=\"embedding\"\n",
    ")\n",
    "vector_retriever = vector_index.as_retriever()"
   ],
   "id": "244a781c2d921f84",
   "outputs": [
    {
     "ename": "ValueError",
     "evalue": "Index with name vector already exists.The provided embedding function and vector index dimensions do not match.\nEmbedding function dimension: 768\nVector index dimension: 1024",
     "output_type": "error",
     "traceback": [
      "\u001B[1;31m---------------------------------------------------------------------------\u001B[0m",
      "\u001B[1;31mValueError\u001B[0m                                Traceback (most recent call last)",
      "Cell \u001B[1;32mIn[42], line 5\u001B[0m\n\u001B[0;32m      1\u001B[0m embeddings \u001B[38;5;241m=\u001B[39m OllamaEmbeddings(\n\u001B[0;32m      2\u001B[0m     model\u001B[38;5;241m=\u001B[39m\u001B[38;5;124m\"\u001B[39m\u001B[38;5;124mnomic-embed-text\u001B[39m\u001B[38;5;124m\"\u001B[39m,\n\u001B[0;32m      3\u001B[0m )\n\u001B[1;32m----> 5\u001B[0m vector_index \u001B[38;5;241m=\u001B[39m \u001B[43mNeo4jVector\u001B[49m\u001B[38;5;241;43m.\u001B[39;49m\u001B[43mfrom_existing_graph\u001B[49m\u001B[43m(\u001B[49m\n\u001B[0;32m      6\u001B[0m \u001B[43m    \u001B[49m\u001B[43membeddings\u001B[49m\u001B[43m,\u001B[49m\n\u001B[0;32m      7\u001B[0m \u001B[43m    \u001B[49m\u001B[43msearch_type\u001B[49m\u001B[38;5;241;43m=\u001B[39;49m\u001B[38;5;124;43m\"\u001B[39;49m\u001B[38;5;124;43mhybrid\u001B[39;49m\u001B[38;5;124;43m\"\u001B[39;49m\u001B[43m,\u001B[49m\n\u001B[0;32m      8\u001B[0m \u001B[43m    \u001B[49m\u001B[43mnode_label\u001B[49m\u001B[38;5;241;43m=\u001B[39;49m\u001B[38;5;124;43m\"\u001B[39;49m\u001B[38;5;124;43mDocument\u001B[39;49m\u001B[38;5;124;43m\"\u001B[39;49m\u001B[43m,\u001B[49m\n\u001B[0;32m      9\u001B[0m \u001B[43m    \u001B[49m\u001B[43mtext_node_properties\u001B[49m\u001B[38;5;241;43m=\u001B[39;49m\u001B[43m[\u001B[49m\u001B[38;5;124;43m\"\u001B[39;49m\u001B[38;5;124;43mtext\u001B[39;49m\u001B[38;5;124;43m\"\u001B[39;49m\u001B[43m]\u001B[49m\u001B[43m,\u001B[49m\n\u001B[0;32m     10\u001B[0m \u001B[43m    \u001B[49m\u001B[43membedding_node_property\u001B[49m\u001B[38;5;241;43m=\u001B[39;49m\u001B[38;5;124;43m\"\u001B[39;49m\u001B[38;5;124;43membedding\u001B[39;49m\u001B[38;5;124;43m\"\u001B[39;49m\n\u001B[0;32m     11\u001B[0m \u001B[43m)\u001B[49m\n\u001B[0;32m     12\u001B[0m vector_retriever \u001B[38;5;241m=\u001B[39m vector_index\u001B[38;5;241m.\u001B[39mas_retriever()\n",
      "File \u001B[1;32m~\\anaconda3\\envs\\rag\\Lib\\site-packages\\langchain_community\\vectorstores\\neo4j_vector.py:1556\u001B[0m, in \u001B[0;36mNeo4jVector.from_existing_graph\u001B[1;34m(cls, embedding, node_label, embedding_node_property, text_node_properties, keyword_index_name, index_name, search_type, retrieval_query, **kwargs)\u001B[0m\n\u001B[0;32m   1552\u001B[0m \u001B[38;5;66;03m# If the index already exists, check if embedding dimensions match\u001B[39;00m\n\u001B[0;32m   1553\u001B[0m \u001B[38;5;28;01melif\u001B[39;00m (\n\u001B[0;32m   1554\u001B[0m     embedding_dimension \u001B[38;5;129;01mand\u001B[39;00m \u001B[38;5;129;01mnot\u001B[39;00m store\u001B[38;5;241m.\u001B[39membedding_dimension \u001B[38;5;241m==\u001B[39m embedding_dimension\n\u001B[0;32m   1555\u001B[0m ):\n\u001B[1;32m-> 1556\u001B[0m     \u001B[38;5;28;01mraise\u001B[39;00m \u001B[38;5;167;01mValueError\u001B[39;00m(\n\u001B[0;32m   1557\u001B[0m         \u001B[38;5;124mf\u001B[39m\u001B[38;5;124m\"\u001B[39m\u001B[38;5;124mIndex with name \u001B[39m\u001B[38;5;132;01m{\u001B[39;00mstore\u001B[38;5;241m.\u001B[39mindex_name\u001B[38;5;132;01m}\u001B[39;00m\u001B[38;5;124m already exists.\u001B[39m\u001B[38;5;124m\"\u001B[39m\n\u001B[0;32m   1558\u001B[0m         \u001B[38;5;124m\"\u001B[39m\u001B[38;5;124mThe provided embedding function and vector index \u001B[39m\u001B[38;5;124m\"\u001B[39m\n\u001B[0;32m   1559\u001B[0m         \u001B[38;5;124m\"\u001B[39m\u001B[38;5;124mdimensions do not match.\u001B[39m\u001B[38;5;130;01m\\n\u001B[39;00m\u001B[38;5;124m\"\u001B[39m\n\u001B[0;32m   1560\u001B[0m         \u001B[38;5;124mf\u001B[39m\u001B[38;5;124m\"\u001B[39m\u001B[38;5;124mEmbedding function dimension: \u001B[39m\u001B[38;5;132;01m{\u001B[39;00mstore\u001B[38;5;241m.\u001B[39membedding_dimension\u001B[38;5;132;01m}\u001B[39;00m\u001B[38;5;130;01m\\n\u001B[39;00m\u001B[38;5;124m\"\u001B[39m\n\u001B[0;32m   1561\u001B[0m         \u001B[38;5;124mf\u001B[39m\u001B[38;5;124m\"\u001B[39m\u001B[38;5;124mVector index dimension: \u001B[39m\u001B[38;5;132;01m{\u001B[39;00membedding_dimension\u001B[38;5;132;01m}\u001B[39;00m\u001B[38;5;124m\"\u001B[39m\n\u001B[0;32m   1562\u001B[0m     )\n\u001B[0;32m   1563\u001B[0m \u001B[38;5;66;03m# FTS index for Hybrid search\u001B[39;00m\n\u001B[0;32m   1564\u001B[0m \u001B[38;5;28;01mif\u001B[39;00m search_type \u001B[38;5;241m==\u001B[39m SearchType\u001B[38;5;241m.\u001B[39mHYBRID:\n",
      "\u001B[1;31mValueError\u001B[0m: Index with name vector already exists.The provided embedding function and vector index dimensions do not match.\nEmbedding function dimension: 768\nVector index dimension: 1024"
     ]
    }
   ],
   "execution_count": 42
  },
  {
   "metadata": {
    "ExecuteTime": {
     "end_time": "2025-01-24T22:08:43.561190Z",
     "start_time": "2025-01-24T22:08:42.997233Z"
    }
   },
   "cell_type": "code",
   "source": [
    "driver = GraphDatabase.driver(\n",
    "        uri = os.environ[\"NEO4J_URI\"],\n",
    "        auth = (os.environ[\"NEO4J_USERNAME\"],\n",
    "                os.environ[\"NEO4J_PASSWORD\"]))\n",
    "\n",
    "def create_fulltext_index(tx):\n",
    "    query = '''\n",
    "    CREATE FULLTEXT INDEX `fulltext_entity_id` \n",
    "    FOR (n:__Entity__) \n",
    "    ON EACH [n.id];\n",
    "    '''\n",
    "    tx.run(query)\n",
    "    \n",
    "# Function to execute the query\n",
    "def create_index():\n",
    "    with driver.session() as session:\n",
    "        session.execute_write(create_fulltext_index)\n",
    "        print(\"Fulltext index created successfully.\")\n",
    "\n",
    "# Call the function to create the index\n",
    "try:\n",
    "    create_index()\n",
    "except Exception as e:\n",
    "    print(e)\n",
    "    pass\n",
    "\n",
    "# Close the driver connection\n",
    "driver.close()"
   ],
   "id": "9a3c92d0813e0be4",
   "outputs": [
    {
     "name": "stdout",
     "output_type": "stream",
     "text": [
      "{code: Neo.ClientError.Schema.EquivalentSchemaRuleAlreadyExists} {message: An equivalent index already exists, 'Index( id=7, name='fulltext_entity_id', type='FULLTEXT', schema=(:__Entity__ {id}), indexProvider='fulltext-1.0' )'.}\n"
     ]
    }
   ],
   "execution_count": 10
  },
  {
   "metadata": {
    "ExecuteTime": {
     "end_time": "2025-01-24T22:09:14.416294Z",
     "start_time": "2025-01-24T22:09:14.410942Z"
    }
   },
   "cell_type": "code",
   "source": [
    "class Entities(BaseModel):\n",
    "    \"\"\"Identifying information about entities.\"\"\"\n",
    "\n",
    "    names: list[str] = Field(\n",
    "        ...,\n",
    "        description=\"All the person, organization, or business entities that \"\n",
    "        \"appear in the text\",\n",
    "    )\n",
    "\n",
    "prompt = ChatPromptTemplate.from_messages(\n",
    "    [\n",
    "        (\n",
    "            \"system\",\n",
    "            \"You are extracting organization and person entities from the text.\",\n",
    "        ),\n",
    "        (\n",
    "            \"human\",\n",
    "            \"Use the given format to extract information from the following \"\n",
    "            \"input: {question}\",\n",
    "        ),\n",
    "    ]\n",
    ")\n",
    "\n",
    "\n",
    "entity_chain = llm.with_structured_output(Entities)"
   ],
   "id": "398142903e12562d",
   "outputs": [],
   "execution_count": 21
  },
  {
   "metadata": {
    "ExecuteTime": {
     "end_time": "2025-01-24T22:09:19.732385Z",
     "start_time": "2025-01-24T22:09:14.745423Z"
    }
   },
   "cell_type": "code",
   "source": "entity_chain.invoke(\"Who is Antonio Caruso?\")",
   "id": "5cb2add4553a9c70",
   "outputs": [
    {
     "data": {
      "text/plain": [
       "Entities(names=['Antonio Caruso'])"
      ]
     },
     "execution_count": 22,
     "metadata": {},
     "output_type": "execute_result"
    }
   ],
   "execution_count": 22
  },
  {
   "metadata": {
    "ExecuteTime": {
     "end_time": "2025-01-24T22:09:26.251435Z",
     "start_time": "2025-01-24T22:09:26.245807Z"
    }
   },
   "cell_type": "code",
   "source": [
    "def generate_full_text_query(input: str) -> str:\n",
    "    words = [el for el in remove_lucene_chars(input).split() if el]\n",
    "    if not words:\n",
    "        return \"\"\n",
    "    full_text_query = \" AND \".join([f\"{word}~2\" for word in words])\n",
    "    print(f\"Generated Query: {full_text_query}\")\n",
    "    return full_text_query.strip()\n",
    "\n",
    "\n",
    "# Fulltext index query\n",
    "def graph_retriever(question: str) -> str:\n",
    "    \"\"\"\n",
    "    Collects the neighborhood of entities mentioned\n",
    "    in the question\n",
    "    \"\"\"\n",
    "    result = \"\"\n",
    "    entities = entity_chain.invoke(question)\n",
    "    for entity in entities.names:\n",
    "        response = graph.query(\n",
    "            \"\"\"CALL db.index.fulltext.queryNodes('fulltext_entity_id', $query, {limit:2})\n",
    "            YIELD node,score\n",
    "            CALL {\n",
    "              WITH node\n",
    "              MATCH (node)-[r:!MENTIONS]->(neighbor)\n",
    "              RETURN node.id + ' - ' + type(r) + ' -> ' + neighbor.id AS output\n",
    "              UNION ALL\n",
    "              WITH node\n",
    "              MATCH (node)<-[r:!MENTIONS]-(neighbor)\n",
    "              RETURN neighbor.id + ' - ' + type(r) + ' -> ' +  node.id AS output\n",
    "            }\n",
    "            RETURN output LIMIT 50\n",
    "            \"\"\",\n",
    "            {\"query\": entity},\n",
    "        )\n",
    "        result += \"\\n\".join([el['output'] for el in response])\n",
    "    return result"
   ],
   "id": "4f83f3e3ea0e58f2",
   "outputs": [],
   "execution_count": 23
  },
  {
   "metadata": {
    "ExecuteTime": {
     "end_time": "2025-01-24T22:09:27.109965Z",
     "start_time": "2025-01-24T22:09:26.644008Z"
    }
   },
   "cell_type": "code",
   "source": "print(graph_retriever(\"Who is Nonna Lucia?\"))",
   "id": "2e2d2ae2719cff86",
   "outputs": [
    {
     "name": "stdout",
     "output_type": "stream",
     "text": [
      "\n"
     ]
    }
   ],
   "execution_count": 24
  },
  {
   "metadata": {
    "ExecuteTime": {
     "end_time": "2025-01-24T22:09:27.873519Z",
     "start_time": "2025-01-24T22:09:27.868162Z"
    }
   },
   "cell_type": "code",
   "source": [
    "def full_retriever(question: str):\n",
    "    graph_data = graph_retriever(question)\n",
    "    vector_data = [el.page_content for el in vector_retriever.invoke(question)]\n",
    "    final_data = f\"\"\"Graph data:\n",
    "        {graph_data}\n",
    "        vector data:\n",
    "        {\"#Document \". join(vector_data)}\n",
    "        \"\"\"\n",
    "    return final_data"
   ],
   "id": "a5bcb897710ea128",
   "outputs": [],
   "execution_count": 25
  },
  {
   "metadata": {
    "ExecuteTime": {
     "end_time": "2025-01-24T22:09:28.222334Z",
     "start_time": "2025-01-24T22:09:28.213887Z"
    }
   },
   "cell_type": "code",
   "source": [
    "template = \"\"\"Answer the question based only on the following context:\n",
    "{context}\n",
    "\n",
    "Question: {question}\n",
    "Use natural language and be concise.\n",
    "Answer:\"\"\"\n",
    "prompt = ChatPromptTemplate.from_template(template)\n",
    "\n",
    "chain = (\n",
    "        {\n",
    "            \"context\": full_retriever,\n",
    "            \"question\": RunnablePassthrough(),\n",
    "        }\n",
    "    | prompt\n",
    "    | llm\n",
    "    | StrOutputParser()\n",
    ")"
   ],
   "id": "2d969f6425d0752e",
   "outputs": [],
   "execution_count": 26
  },
  {
   "metadata": {
    "ExecuteTime": {
     "end_time": "2025-01-24T22:09:30.412795Z",
     "start_time": "2025-01-24T22:09:29.035627Z"
    }
   },
   "cell_type": "code",
   "source": "chain.invoke(input=\"Who is Nonna Lucia? Did she teach anyone about restaurants or cooking?\")",
   "id": "ff225b2cc0881949",
   "outputs": [
    {
     "data": {
      "text/plain": [
       "'{ \"Nonna Lucia\" : \"Lucia, Antonio\\'s sister and Amico\\'s grandmother. She was a culinary sage who taught her grandchildren the art of Sicilian cooking.\" }'"
      ]
     },
     "execution_count": 27,
     "metadata": {},
     "output_type": "execute_result"
    }
   ],
   "execution_count": 27
  },
  {
   "metadata": {
    "ExecuteTime": {
     "end_time": "2025-01-24T22:09:31.717165Z",
     "start_time": "2025-01-24T22:09:30.427581Z"
    }
   },
   "cell_type": "code",
   "source": "chain.invoke(input=\"Who is Antonio Caruso? What is the relationship between Antonio Caruso and Nonna Lucia?\")",
   "id": "f0d9e46470b8f617",
   "outputs": [
    {
     "data": {
      "text/plain": [
       "'{ \"Antonio Caruso\" : \"A chef who hosts workshops in Rome, sharing his innovative techniques. He is also Nonna Lucia\\'s son.\" }'"
      ]
     },
     "execution_count": 28,
     "metadata": {},
     "output_type": "execute_result"
    }
   ],
   "execution_count": 28
  },
  {
   "metadata": {
    "ExecuteTime": {
     "end_time": "2025-01-24T22:09:33.368962Z",
     "start_time": "2025-01-24T22:09:31.724090Z"
    }
   },
   "cell_type": "code",
   "source": "chain.invoke(input=\"Who is Amico Caruso? List all his family members.\")",
   "id": "a718cb65f6e4463c",
   "outputs": [
    {
     "data": {
      "text/plain": [
       "'{ \"Amico Caruso\" : \\n  -1.2 \\n  }\\n \\n  \\n\\n\\n\\n\\n\\n  \\n\\n\\n\\n\\n\\n  \\n\\n\\n\\n\\n\\n  \\n\\n\\n\\n\\n\\n  \\n\\n\\n\\n\\n\\n  \\n\\n\\n\\n\\n\\n  \\n\\n\\n\\n\\n\\n  \\n\\n\\n\\n\\n\\n  \\n\\n\\n\\n\\n\\n  \\n\\n\\n\\n\\n\\n'"
      ]
     },
     "execution_count": 29,
     "metadata": {},
     "output_type": "execute_result"
    }
   ],
   "execution_count": 29
  },
  {
   "metadata": {
    "ExecuteTime": {
     "end_time": "2025-01-23T02:28:38.149358Z",
     "start_time": "2025-01-23T02:28:37.017330Z"
    }
   },
   "cell_type": "code",
   "source": "chain.invoke(input=\"Print the entire context given\")",
   "id": "32d30d18ac19b8de",
   "outputs": [
    {
     "data": {
      "text/plain": [
       "'{ \"Conclusion\": \"In the idyllic village of Santa Caterina, amidst the rolling hills and sun-kissed landscapes of Sicily, lies the genesis of the Caruso family, a lineage intertwined with the island\\'s rich culinary tapestry. The Carusos were not mere inhabitants of the land; they were the keepers of a culinary tradition that brought people from different backgrounds together.\", \"In the idyllic village of Santa Caterina, amidst the rolling hills and sun-kissed landscapes of Sicily, lies the genesis of the Caruso family, a lineage intertwined with the island\\'s rich culinary tapestry. The Carusos were not mere inhabitants of #Document\"  : \"bringing people from different backgrounds together.\" }'"
      ]
     },
     "execution_count": 31,
     "metadata": {},
     "output_type": "execute_result"
    }
   ],
   "execution_count": 31
  },
  {
   "metadata": {},
   "cell_type": "code",
   "outputs": [],
   "execution_count": null,
   "source": "",
   "id": "f960a803c2b7fa6e"
  }
 ],
 "metadata": {
  "kernelspec": {
   "display_name": "Python 3",
   "language": "python",
   "name": "python3"
  },
  "language_info": {
   "codemirror_mode": {
    "name": "ipython",
    "version": 2
   },
   "file_extension": ".py",
   "mimetype": "text/x-python",
   "name": "python",
   "nbconvert_exporter": "python",
   "pygments_lexer": "ipython2",
   "version": "2.7.6"
  }
 },
 "nbformat": 4,
 "nbformat_minor": 5
}
