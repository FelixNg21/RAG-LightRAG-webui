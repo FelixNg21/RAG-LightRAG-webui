{
 "cells": [
  {
   "metadata": {
    "ExecuteTime": {
     "end_time": "2024-08-23T00:06:35.804262Z",
     "start_time": "2024-08-23T00:06:35.799805Z"
    }
   },
   "cell_type": "code",
   "source": [
    "CHROMA_PATH = \"chroma\"\n",
    "\n",
    "PROMPT_TEMPLATE= \"\"\"\n",
    "Answer the question based only on the following context:\n",
    "{context}\n",
    "\n",
    "---\n",
    "Answer the question based on the above context: {question}\n",
    "\"\"\""
   ],
   "id": "bce31fb19bf89482",
   "outputs": [],
   "execution_count": 1
  },
  {
   "cell_type": "code",
   "id": "initial_id",
   "metadata": {
    "collapsed": true,
    "ExecuteTime": {
     "end_time": "2024-08-23T00:06:37.043050Z",
     "start_time": "2024-08-23T00:06:35.805265Z"
    }
   },
   "source": [
    "from get_embedding_func import get_embedding_function\n",
    "import langchain\n",
    "from langchain_chroma  import Chroma\n",
    "from langchain.prompts import ChatPromptTemplate\n",
    "from langchain_community.llms.ollama import Ollama\n",
    "\n",
    "def query_rag(query_text: str):\n",
    "    langchain.verbose = True\n",
    "    embedding_func = get_embedding_function()\n",
    "    db = Chroma(persist_directory=CHROMA_PATH, embedding_function=embedding_func)\n",
    "    \n",
    "    results = db.similarity_search_with_score(query_text, k=5)\n",
    "    context_text = \"\\n\\n---\\n\\n\".join([doc.page_content for doc, _score in results])\n",
    "    prompt_template = ChatPromptTemplate.from_template(PROMPT_TEMPLATE)\n",
    "    print(prompt_template)\n",
    "    prompt = prompt_template.format(context=context_text, question=query_text)\n",
    "    #\n",
    "    # model = Ollama(model='mistral')\n",
    "    # response_text = model.invoke(prompt)\n",
    "    #\n",
    "    # sources = [doc.metadata.get(\"id\", None) for doc, _score in results]\n",
    "    # formatted_response = f\"Response: {response_text}\"\n",
    "\n",
    "\n",
    "def query_rag2(query_text:str):\n",
    "    print(query_text)\n",
    "    embedding_func = get_embedding_function()\n",
    "    db = Chroma(persist_directory=CHROMA_PATH, embedding_function=embedding_func)\n",
    "\n",
    "    results = db.similarity_search_with_score(query_text, k=5)\n",
    "    context_text = \"\\n\\n---\\n\\n\".join([doc.page_content for doc, _score in results])\n",
    "    prompt_template = ChatPromptTemplate.from_template(PROMPT_TEMPLATE)\n",
    "    print(prompt_template)\n",
    "    prompt = prompt_template.format(context=context_text, question=query_text)\n",
    "    return prompt_template"
   ],
   "outputs": [],
   "execution_count": 2
  },
  {
   "metadata": {
    "ExecuteTime": {
     "end_time": "2024-08-23T00:06:46.695575Z",
     "start_time": "2024-08-23T00:06:44.461480Z"
    }
   },
   "cell_type": "code",
   "source": "query_rag(\"In Ticket to Ride, what's the objective of the game?\")",
   "id": "c5a44111e29d399a",
   "outputs": [
    {
     "name": "stdout",
     "output_type": "stream",
     "text": [
      "input_variables=['context', 'question'] messages=[HumanMessagePromptTemplate(prompt=PromptTemplate(input_variables=['context', 'question'], template='\\nAnswer the question based only on the following context:\\n{context}\\n\\n---\\nAnswer the question based on the above context: {question}\\n'))]\n"
     ]
    }
   ],
   "execution_count": 3
  },
  {
   "metadata": {
    "ExecuteTime": {
     "end_time": "2024-08-22T23:59:51.261206Z",
     "start_time": "2024-08-22T23:59:46.620852Z"
    }
   },
   "cell_type": "code",
   "source": "query_rag(\"How many cards do I start with in Exploding Kittens?\")",
   "id": "66db4f6a22e8aaf8",
   "outputs": [
    {
     "name": "stdout",
     "output_type": "stream",
     "text": [
      "Human: \n",
      "Answer the question based only on the following context:\n",
      "the deck and deal 1 to each player.\n",
      "Insert any extra Defuse Cards back \n",
      "in the deck (if there are any).\n",
      "Each player starts with a Defuse Card; the most \n",
      "powerful card in the game. These are the only \n",
      "cards that can save you from Exploding Kittens.  \n",
      "If you draw an Exploding Kitten, instead of dying, \n",
      "you can play the Defuse Card and reinsert the \n",
      "Kitten back into the Draw Pile anywhere you’d like \n",
      "in secret. \n",
      "Try to get as many Defuse Cards as possible.Now, look through the remaining deck and \n",
      "based on the number of players, use the \n",
      "following cards:\n",
      "8 - 10 players:  Use all of the cards.To start, remove all the Exploding Kittens  (9) \n",
      "from the deck and set them aside.setup\n",
      "Copyright Exploding Kittens 2018\n",
      "see the future\n",
      "skip\n",
      "You could use a See the Future \n",
      "Card to peek at the top few\n",
      "\n",
      "---\n",
      "\n",
      "all of your cards, including the Exploding Kitten.\n",
      "Exploding Kitten\n",
      " With the deck freshly shuffled, you draw the top \n",
      "card to end your turn and hope it’s not \n",
      "an EXPLODING KITTEN.but then another player \n",
      "plays a NOPE card which \n",
      "cancels your attack, so \n",
      "it’s still your turn.\n",
      "You don’t want to draw \n",
      "that top card and Explode, \n",
      "so you play a SHUFFLE card \n",
      "and randomly shuffle \n",
      "the Draw Pile.You decide to play an attack card to end your turn \n",
      "and force the next Player to take 2 turns.FIELD GUIDE exploding kit tens\n",
      "you only need this if you have questions about specific cards\n",
      "If you drew an Exploding Kitten, you can play \n",
      "this card instead of dying. Place your Defuse \n",
      "Card in the \n",
      "Discard Pile.\n",
      "Want to hurt the player right after you? Put the \n",
      "Kitten right on top of the deck. If you’d like,\n",
      "\n",
      "---\n",
      "\n",
      "in the middle of the table. \n",
      "(Be sure to leave some space for a Discard Pile as well.)This is your Draw Pile.Insert enough Exploding Kittens back into \n",
      "the deck so that there is 1 fewer than the \n",
      "number of people playing. Remove any \n",
      "extra Exploding Kittens from the game.\n",
      "For a 4 player game, insert 3 Kittens.\n",
      "For a 3 player game, insert 2 Kittens.\n",
      "This ensures that everyone eventually \n",
      "explodes except for 1 person.\n",
      "Note: For a 2 - 3 player game, the Exploding Kittens you \n",
      "insert will be the only cards that do not have paw prints.Shuffle the deck and deal 7 cards face down \n",
      "to each player. Everyone now has a hand \n",
      "of 8 cards total (including the Defuse Card).Remove all of the Defuse Cards from \n",
      "the deck and deal 1 to each player.\n",
      "Insert any extra Defuse Cards back\n",
      "\n",
      "---\n",
      "\n",
      "Exploding Kittens. You play the game \n",
      "by putting the deck face down and taking \n",
      "turns drawing cards until someone draws \n",
      "an Exploding Kitten.how it worksREADING IS THE WORST WAY TO\n",
      "LEARN HOW TO PLAY A GAME.\n",
      "INSTEAD, GO ONLINE and watch\n",
      "our instructional video:HEY! DON’T READ THESE RULES!\n",
      "WWW.EXPLODINGKITTENS.COM/HOW\n",
      "PARTY PACK!\n",
      "the rulesexploding kit tens\n",
      "players: 2  -10\n",
      "contents: 122 cards\n",
      "Pass-or-Play then Draw. \n",
      "Pass-or-Play then Draw.Play continues clockwise around the table.PASS\n",
      "PLAYor\n",
      "Read the text on a card to \n",
      "learn what it does.WHAT I DO\n",
      "CRUNCH\n",
      "MUNCH\n",
      "MUNCH\n",
      "Stop the action of another Player.\n",
      "You can play this at any time.feed your opponent a nope sandwich\n",
      "with extra nopesaucenopenope\n",
      "Stop the action of another Player.\n",
      "\n",
      "---\n",
      "\n",
      "to name the card you want from \n",
      "the other player. If they have it, \n",
      "you get to take it. If not, \n",
      "you get nothing.Feral cat\n",
      "Use as any Cat Card (any card that is \n",
      "powerless on its own). This card cannot be \n",
      "used as a non-Cat Card (Shuffle, Attack, etc).\n",
      "cat CardsForce any other player to give you 1 card \n",
      "from their hand. They choose which card to \n",
      "give you.\n",
      "favor\n",
      "End your turn by drawing the bottom card from \n",
      "the Draw Pile.Draw from The bottom\n",
      "shuffle\n",
      "Shuffle the Draw Pile thoroughly. (Useful when \n",
      "you know there’s an Exploding Kitten coming.)Immediately end your turn without drawing a \n",
      "card. \n",
      "skipYou must show this card immediately. Unless \n",
      "you have a Defuse Card, you’re dead. Discard \n",
      "all of your cards, including the Exploding Kitten.\n",
      "Exploding Kitten\n",
      "\n",
      "---\n",
      "Answer the question based on the above context: How many cards do I start with in Exploding Kittens?\n",
      "\n",
      "Response: 8 cards (including a Defuse Card)\n"
     ]
    },
    {
     "data": {
      "text/plain": [
       "'Response: 8 cards (including a Defuse Card)'"
      ]
     },
     "execution_count": 7,
     "metadata": {},
     "output_type": "execute_result"
    }
   ],
   "execution_count": 7
  },
  {
   "metadata": {
    "ExecuteTime": {
     "end_time": "2024-08-23T00:05:05.819378Z",
     "start_time": "2024-08-23T00:05:03.748864Z"
    }
   },
   "cell_type": "code",
   "source": "query_rag2(\"How do I win in Exploding Kittens?\")\n",
   "id": "37eed0fae5c48226",
   "outputs": [
    {
     "name": "stdout",
     "output_type": "stream",
     "text": [
      "How do I win in Exploding Kittens?\n",
      "input_variables=['context', 'question'] messages=[HumanMessagePromptTemplate(prompt=PromptTemplate(input_variables=['context', 'question'], template='\\nAnswer the question based only on the following context:\\n{context}\\n\\n---\\nAnswer the question based on the above context: {question}\\n'))]\n",
      "input_variables=['context', 'question'] messages=[HumanMessagePromptTemplate(prompt=PromptTemplate(input_variables=['context', 'question'], template='\\nAnswer the question based only on the following context:\\n{context}\\n\\n---\\nAnswer the question based on the above context: {question}\\n'))]\n"
     ]
    }
   ],
   "execution_count": 21
  },
  {
   "metadata": {
    "ExecuteTime": {
     "end_time": "2024-08-18T23:35:03.289357Z",
     "start_time": "2024-08-18T23:34:58.564635Z"
    }
   },
   "cell_type": "code",
   "source": "query_rag(\"How many Trains do I start with in Ticket to Ride?\")",
   "id": "76cf79c3077d33b1",
   "outputs": [
    {
     "name": "stdout",
     "output_type": "stream",
     "text": [
      "Response: 4 trains (since each player is dealt a starting hand of 4 cards)\n",
      "\n",
      "Sources: ['data\\\\pdfs\\\\7f-ticket-to-ride-rulebook.pdf:1:3', 'data\\\\pdfs\\\\7f-ticket-to-ride-rulebook.pdf:1:1', 'data\\\\pdfs\\\\7f-ticket-to-ride-rulebook.pdf:2:1', 'data\\\\pdfs\\\\7f-ticket-to-ride-rulebook.pdf:3:5', 'data\\\\pdfs\\\\7f-ticket-to-ride-rulebook.pdf:3:3']\n"
     ]
    },
    {
     "data": {
      "text/plain": [
       "\"Response: 4 trains (since each player is dealt a starting hand of 4 cards)\\n\\nSources: ['data\\\\\\\\pdfs\\\\\\\\7f-ticket-to-ride-rulebook.pdf:1:3', 'data\\\\\\\\pdfs\\\\\\\\7f-ticket-to-ride-rulebook.pdf:1:1', 'data\\\\\\\\pdfs\\\\\\\\7f-ticket-to-ride-rulebook.pdf:2:1', 'data\\\\\\\\pdfs\\\\\\\\7f-ticket-to-ride-rulebook.pdf:3:5', 'data\\\\\\\\pdfs\\\\\\\\7f-ticket-to-ride-rulebook.pdf:3:3']\""
      ]
     },
     "execution_count": 6,
     "metadata": {},
     "output_type": "execute_result"
    }
   ],
   "execution_count": 6
  },
  {
   "metadata": {
    "ExecuteTime": {
     "end_time": "2024-08-18T23:36:36.139016Z",
     "start_time": "2024-08-18T23:36:31.208666Z"
    }
   },
   "cell_type": "code",
   "source": "",
   "id": "285fd4be4ac8662f",
   "outputs": [
    {
     "name": "stdout",
     "output_type": "stream",
     "text": [
      "Response:  The text does not provide any information about favorite colors, as it is only related to a board game called Ticket to Ride.\n",
      "\n",
      "Sources: ['data\\\\pdfs\\\\7f-ticket-to-ride-rulebook.pdf:3:4', 'data\\\\pdfs\\\\7f-ticket-to-ride-rulebook.pdf:3:3', 'data\\\\pdfs\\\\7f-ticket-to-ride-rulebook.pdf:2:1', 'data\\\\pdfs\\\\EK_party_pack.pdf:0:1', 'data\\\\pdfs\\\\7f-ticket-to-ride-rulebook.pdf:2:5']\n"
     ]
    },
    {
     "data": {
      "text/plain": [
       "\"Response:  The text does not provide any information about favorite colors, as it is only related to a board game called Ticket to Ride.\\n\\nSources: ['data\\\\\\\\pdfs\\\\\\\\7f-ticket-to-ride-rulebook.pdf:3:4', 'data\\\\\\\\pdfs\\\\\\\\7f-ticket-to-ride-rulebook.pdf:3:3', 'data\\\\\\\\pdfs\\\\\\\\7f-ticket-to-ride-rulebook.pdf:2:1', 'data\\\\\\\\pdfs\\\\\\\\EK_party_pack.pdf:0:1', 'data\\\\\\\\pdfs\\\\\\\\7f-ticket-to-ride-rulebook.pdf:2:5']\""
      ]
     },
     "execution_count": 7,
     "metadata": {},
     "output_type": "execute_result"
    }
   ],
   "execution_count": 7
  },
  {
   "metadata": {
    "ExecuteTime": {
     "end_time": "2024-08-23T00:05:17.611636Z",
     "start_time": "2024-08-23T00:05:15.543108Z"
    }
   },
   "cell_type": "code",
   "source": "query_rag2(\"How do I win in Ticket to Ride?\")",
   "id": "7ea105a925f6e4e",
   "outputs": [
    {
     "name": "stdout",
     "output_type": "stream",
     "text": [
      "How do I win in Ticket to Ride?\n",
      "input_variables=['context', 'question'] messages=[HumanMessagePromptTemplate(prompt=PromptTemplate(input_variables=['context', 'question'], template='\\nAnswer the question based only on the following context:\\n{context}\\n\\n---\\nAnswer the question based on the above context: {question}\\n'))]\n",
      "input_variables=['context', 'question'] messages=[HumanMessagePromptTemplate(prompt=PromptTemplate(input_variables=['context', 'question'], template='\\nAnswer the question based only on the following context:\\n{context}\\n\\n---\\nAnswer the question based on the above context: {question}\\n'))]\n"
     ]
    }
   ],
   "execution_count": 22
  },
  {
   "metadata": {},
   "cell_type": "code",
   "outputs": [],
   "execution_count": null,
   "source": "",
   "id": "6506ae0716f00981"
  }
 ],
 "metadata": {
  "kernelspec": {
   "display_name": "Python 3",
   "language": "python",
   "name": "python3"
  },
  "language_info": {
   "codemirror_mode": {
    "name": "ipython",
    "version": 2
   },
   "file_extension": ".py",
   "mimetype": "text/x-python",
   "name": "python",
   "nbconvert_exporter": "python",
   "pygments_lexer": "ipython2",
   "version": "2.7.6"
  }
 },
 "nbformat": 4,
 "nbformat_minor": 5
}
