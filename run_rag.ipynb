{
 "cells": [
  {
   "metadata": {
    "ExecuteTime": {
     "end_time": "2024-08-14T10:02:24.993625Z",
     "start_time": "2024-08-14T10:02:24.989656Z"
    }
   },
   "cell_type": "code",
   "source": [
    "CHROMA_PATH = \"chroma\"\n",
    "\n",
    "PROMPT_TEMPLATE= \"\"\"\n",
    "Answer the question based only on the following context:\n",
    "{context}\n",
    "\n",
    "---\n",
    "Answer the question based on the above context: {question}\n",
    "\"\"\""
   ],
   "id": "bce31fb19bf89482",
   "outputs": [],
   "execution_count": 1
  },
  {
   "cell_type": "code",
   "id": "initial_id",
   "metadata": {
    "collapsed": true,
    "ExecuteTime": {
     "end_time": "2024-08-14T10:23:12.290094Z",
     "start_time": "2024-08-14T10:23:12.286110Z"
    }
   },
   "source": [
    "from get_embedding_func import get_embedding_function\n",
    "from langchain_chroma  import Chroma\n",
    "from langchain.prompts import ChatPromptTemplate\n",
    "from langchain_community.llms.ollama import Ollama\n",
    "\n",
    "def query_rag(query_text: str):\n",
    "    embedding_func = get_embedding_function()\n",
    "    db = Chroma(persist_directory=CHROMA_PATH, embedding_function=embedding_func)\n",
    "    \n",
    "    results = db.similarity_search_with_score(query_text, k=5)\n",
    "    \n",
    "    context_text = \"\\n\\n---\\n\\n\".join([doc.page_content for doc, _score in results])\n",
    "    prompt_template = ChatPromptTemplate.from_template(PROMPT_TEMPLATE)\n",
    "    prompt = prompt_template.format(context=context_text, question=query_text)\n",
    "    \n",
    "    model = Ollama(model='mistral')\n",
    "    response_text = model.invoke(prompt)\n",
    "    \n",
    "    sources = [doc.metadata.get(\"id\", None) for doc, _score in results]\n",
    "    formatted_response = f\"Response: {response_text}\\n\\nSources: {sources}\"\n",
    "    print(formatted_response)\n",
    "    return formatted_response"
   ],
   "outputs": [],
   "execution_count": 14
  },
  {
   "metadata": {
    "ExecuteTime": {
     "end_time": "2024-08-14T10:26:26.681711Z",
     "start_time": "2024-08-14T10:26:19.861710Z"
    }
   },
   "cell_type": "code",
   "source": "query_rag(\"In Ticket to Ride, what's the objective of the game?\")",
   "id": "c5a44111e29d399a",
   "outputs": [
    {
     "name": "stdout",
     "output_type": "stream",
     "text": [
      "Response:  The game you're playing is called Exploding Kittens. It is played with 2-10 players, using a deck containing 122 cards. Each player takes turns drawing cards from the deck until someone draws an Exploding Kitten, at which point they explode and are eliminated from the game.\n",
      "\n",
      "Players can use certain cards to manipulate the actions of other players. For example, there's a card called \"Nope\" that allows you to stop another player's action. There's also a special combo where playing five different cards (not necessarily all Nope cards) allows you to choose any single card from the Discard Pile.\n",
      "\n",
      "There are also combos involving pairs and sets of specific cards, such as two or three of a kind. These allow you to steal cards from other players.\n",
      "\n",
      "The game continues until there's only one player left, who then wins the game. Drawing more cards increases your chances of drawing an Exploding Kitten, which will cause you to explode and lose the game.\n",
      "\n",
      "Sources: ['data\\\\pdfs\\\\EK_party_pack.pdf:0:6', 'data\\\\pdfs\\\\EK_party_pack.pdf:0:0', 'data\\\\pdfs\\\\EK_party_pack.pdf:0:5', 'data\\\\pdfs\\\\EK_party_pack.pdf:1:0', 'data\\\\pdfs\\\\EK_party_pack.pdf:0:4']\n"
     ]
    },
    {
     "data": {
      "text/plain": [
       "'Response:  The game you\\'re playing is called Exploding Kittens. It is played with 2-10 players, using a deck containing 122 cards. Each player takes turns drawing cards from the deck until someone draws an Exploding Kitten, at which point they explode and are eliminated from the game.\\n\\nPlayers can use certain cards to manipulate the actions of other players. For example, there\\'s a card called \"Nope\" that allows you to stop another player\\'s action. There\\'s also a special combo where playing five different cards (not necessarily all Nope cards) allows you to choose any single card from the Discard Pile.\\n\\nThere are also combos involving pairs and sets of specific cards, such as two or three of a kind. These allow you to steal cards from other players.\\n\\nThe game continues until there\\'s only one player left, who then wins the game. Drawing more cards increases your chances of drawing an Exploding Kitten, which will cause you to explode and lose the game.\\n\\nSources: [\\'data\\\\\\\\pdfs\\\\\\\\EK_party_pack.pdf:0:6\\', \\'data\\\\\\\\pdfs\\\\\\\\EK_party_pack.pdf:0:0\\', \\'data\\\\\\\\pdfs\\\\\\\\EK_party_pack.pdf:0:5\\', \\'data\\\\\\\\pdfs\\\\\\\\EK_party_pack.pdf:1:0\\', \\'data\\\\\\\\pdfs\\\\\\\\EK_party_pack.pdf:0:4\\']'"
      ]
     },
     "execution_count": 18,
     "metadata": {},
     "output_type": "execute_result"
    }
   ],
   "execution_count": 18
  },
  {
   "metadata": {},
   "cell_type": "code",
   "outputs": [],
   "execution_count": null,
   "source": "",
   "id": "66db4f6a22e8aaf8"
  }
 ],
 "metadata": {
  "kernelspec": {
   "display_name": "Python 3",
   "language": "python",
   "name": "python3"
  },
  "language_info": {
   "codemirror_mode": {
    "name": "ipython",
    "version": 2
   },
   "file_extension": ".py",
   "mimetype": "text/x-python",
   "name": "python",
   "nbconvert_exporter": "python",
   "pygments_lexer": "ipython2",
   "version": "2.7.6"
  }
 },
 "nbformat": 4,
 "nbformat_minor": 5
}
