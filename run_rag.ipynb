{
 "cells": [
  {
   "metadata": {
    "ExecuteTime": {
     "end_time": "2024-08-19T21:49:20.052994Z",
     "start_time": "2024-08-19T21:49:20.048159Z"
    }
   },
   "cell_type": "code",
   "source": [
    "CHROMA_PATH = \"chroma\"\n",
    "\n",
    "PROMPT_TEMPLATE= \"\"\"\n",
    "Answer the question based only on the following context:\n",
    "{context}\n",
    "\n",
    "---\n",
    "Answer the question based on the above context: {question}\n",
    "\"\"\""
   ],
   "id": "bce31fb19bf89482",
   "outputs": [],
   "execution_count": 1
  },
  {
   "cell_type": "code",
   "id": "initial_id",
   "metadata": {
    "collapsed": true,
    "ExecuteTime": {
     "end_time": "2024-08-19T21:52:00.897277Z",
     "start_time": "2024-08-19T21:52:00.893286Z"
    }
   },
   "source": [
    "from get_embedding_func import get_embedding_function\n",
    "from langchain_chroma  import Chroma\n",
    "from langchain.prompts import ChatPromptTemplate\n",
    "from langchain_community.llms.ollama import Ollama\n",
    "\n",
    "def query_rag(query_text: str):\n",
    "    embedding_func = get_embedding_function()\n",
    "    db = Chroma(persist_directory=CHROMA_PATH, embedding_function=embedding_func)\n",
    "    \n",
    "    results = db.similarity_search_with_score(query_text, k=5)\n",
    "    print(results) \n",
    "    context_text = \"\\n\\n---\\n\\n\".join([doc.page_content for doc, _score in results])\n",
    "    prompt_template = ChatPromptTemplate.from_template(PROMPT_TEMPLATE)\n",
    "    prompt = prompt_template.format(context=context_text, question=query_text)\n",
    "    \n",
    "    model = Ollama(model='mistral')\n",
    "    response_text = model.invoke(prompt)\n",
    "    \n",
    "    sources = [doc.metadata.get(\"id\", None) for doc, _score in results]\n",
    "    formatted_response = f\"Response: {response_text}\"\n",
    "    return formatted_response"
   ],
   "outputs": [],
   "execution_count": 8
  },
  {
   "metadata": {
    "ExecuteTime": {
     "end_time": "2024-08-19T21:52:08.039769Z",
     "start_time": "2024-08-19T21:52:01.788843Z"
    }
   },
   "cell_type": "code",
   "source": "query_rag(\"In Ticket to Ride, what's the objective of the game?\")",
   "id": "c5a44111e29d399a",
   "outputs": [
    {
     "name": "stdout",
     "output_type": "stream",
     "text": [
      "[(Document(metadata={'id': 'data\\\\pdfs\\\\7f-ticket-to-ride-rulebook.pdf:1:1', 'page': 1, 'source': 'data\\\\pdfs\\\\7f-ticket-to-ride-rulebook.pdf'}, page_content='Shuffle the Train Car cards and deal a starting hand of 4 cards to each player ∑.\\nPlace the remaining deck of Train Car cards near the board and turn the top five cards\\nfrom the deck face-up ∏.\\nPlace the Longest Path Bonus card face up next to the board π. \\nShuffle the Destination Ticket cards and deal 3 cards to each player ∫. Each player\\nlooks at their Destination Tickets and decides which ones they wish to keep. A playermust keep at least two, but may keep all three if he chooses. Any returned cards areplaced on the bottom of the Destination Ticket deck. This deck is then placed next to theboard \\nª. Players keep their Destination Tickets secret until the end of the game.\\nYou are now ready to begin.\\nObject of the Game'), 318.6155695127436), (Document(metadata={'id': 'data\\\\pdfs\\\\7f-ticket-to-ride-rulebook.pdf:3:1', 'page': 3, 'source': 'data\\\\pdfs\\\\7f-ticket-to-ride-rulebook.pdf'}, page_content=\"the two cities, they will add the amount of points indicated on the Destination Ticket to their point totals at the end of the game. If they do not\\nsuccessfully connect the two cities, they deduct the amount of points indicated.\\nDestination Tickets are kept secret from other players until the game's final scoring. A player may have any number of Destination Ticket cards duringthe game.\\nGame End\\nWhen one player’s stock of colored plastic trains gets down to only 0,1 or 2 trains left at the end of his turn, each player, including that player, getsone final turn. The game then ends and players calculate their final scores. \\nCalculating Scores\"), 322.6782820875447), (Document(metadata={'id': 'data\\\\pdfs\\\\7f-ticket-to-ride-rulebook.pdf:3:2', 'page': 3, 'source': 'data\\\\pdfs\\\\7f-ticket-to-ride-rulebook.pdf'}, page_content='Calculating Scores\\nPlayers should have already accounted for the points earned as they completed different routes. To make sure no mistakes were made, you maywant to re-count the points for each player’s routes.\\nPlayers should then reveal all their Destination Tickets and add (or subtract) the value of their Destination Tickets still in hand, based on whether\\nthey successfully (or not) connected those cities together.\\nThe player who has the Longest Continuous Path of routes receives this special bonus card and adds 10 points to his score. When evaluating and'), 340.2156852255838), (Document(metadata={'id': 'data\\\\pdfs\\\\7f-ticket-to-ride-rulebook.pdf:1:2', 'page': 1, 'source': 'data\\\\pdfs\\\\7f-ticket-to-ride-rulebook.pdf'}, page_content='You are now ready to begin.\\nObject of the Game \\nThe object of the game is to score the highest number of total points. Points can bescored by: \\nuClaiming a Route between two adjacent cities on the map; \\nu Successfully completing a Continuous Path of routes between two cities listed on your Destination Ticket(s);\\nu Completing the Longest Continuous Path of routes.\\nPoints are lost if you do not successfully complete the route given on the Destination Ticket(s) you kept.\\nT he Game T urn\\nThe player who is the most experienced traveler goes first. Play then proceeds clockwise around the table, each player taking one turn at a time untilthe game ends. On his turn, a player must perform one (and only one) of the following three actions:∂∑ ∫\\n∑\\n∫'), 346.08667444829786), (Document(metadata={'id': 'data\\\\pdfs\\\\7f-ticket-to-ride-rulebook.pdf:3:3', 'page': 3, 'source': 'data\\\\pdfs\\\\7f-ticket-to-ride-rulebook.pdf'}, page_content='comparing path lengths, only take into account continuous lines of plastic trains of the same color. A continuous path may include loops, and passthrough the same city several times, but a given plastic train may never be used twice in the same continuous path. In the case of a tie for the longestpath, all tied players score the 10 point bonus.\\nThe player with the most points wins the game. If two or more players are tied for the most points, the player who has completed the most Destination\\nTickets wins. In the unlikely event that they are still tied, the player with the Longest Continuous Path card wins.\\n1Route Length Points Scored\\n2\\n3\\n4\\n5\\n61\\n2\\n4\\n7\\n10\\n15\\nCREDITS\\nGame design by Alan R. Moon \\nIllustrations by Julien Delval\\nGraphic Design by Cyrille Daujean'), 352.5315400531876)]\n"
     ]
    },
    {
     "data": {
      "text/plain": [
       "'Response:  The objective of the game \"Ticket to Ride\" is to score the highest number of total points. Points can be scored by claiming a Route between two adjacent cities on the map, successfully completing a Continuous Path of routes between two cities listed on your Destination Ticket(s), and completing the Longest Continuous Path of routes. Points are lost if you do not successfully complete the route given on the Destination Ticket(s) you kept. The player who has the Longest Continuous Path of routes receives a special bonus card and adds 10 points to his score. In case of ties, the winner is determined by the number of completed Destination Tickets and then by the holder of the Longest Continuous Path card.'"
      ]
     },
     "execution_count": 9,
     "metadata": {},
     "output_type": "execute_result"
    }
   ],
   "execution_count": 9
  },
  {
   "metadata": {
    "ExecuteTime": {
     "end_time": "2024-08-19T22:08:53.668512Z",
     "start_time": "2024-08-19T22:08:43.856358Z"
    }
   },
   "cell_type": "code",
   "source": "query_rag(\"How many cards do I start with in Exploding Kittens?\")",
   "id": "66db4f6a22e8aaf8",
   "outputs": [
    {
     "name": "stdout",
     "output_type": "stream",
     "text": [
      "[(Document(metadata={'id': 'data\\\\pdfs\\\\EK_party_pack.pdf:0:3', 'page': 0, 'source': 'data\\\\pdfs\\\\EK_party_pack.pdf'}, page_content='the deck and deal 1 to each player.\\nInsert any extra Defuse Cards back \\nin the deck (if there are any).\\nEach player starts with a Defuse Card; the most \\npowerful card in the game. These are the only \\ncards that can save you from Exploding Kittens.  \\nIf you draw an Exploding Kitten, instead of dying, \\nyou can play the Defuse Card and reinsert the \\nKitten back into the Draw Pile anywhere you’d like \\nin secret. \\nTry to get as many Defuse Cards as possible.Now, look through the remaining deck and \\nbased on the number of players, use the \\nfollowing cards:\\n8 - 10 players:  Use all of the cards.To start, remove all the Exploding Kittens  (9) \\nfrom the deck and set them aside.setup\\nCopyright Exploding Kittens 2018\\nsee the future\\nskip\\nYou could use a See the Future \\nCard to peek at the top few'), 198.0763253962268), (Document(metadata={'id': 'data\\\\pdfs\\\\EK_party_pack.pdf:1:2', 'page': 1, 'source': 'data\\\\pdfs\\\\EK_party_pack.pdf'}, page_content='all of your cards, including the Exploding Kitten.\\nExploding Kitten\\n With the deck freshly shuffled, you draw the top \\ncard to end your turn and hope it’s not \\nan EXPLODING KITTEN.but then another player \\nplays a NOPE card which \\ncancels your attack, so \\nit’s still your turn.\\nYou don’t want to draw \\nthat top card and Explode, \\nso you play a SHUFFLE card \\nand randomly shuffle \\nthe Draw Pile.You decide to play an attack card to end your turn \\nand force the next Player to take 2 turns.FIELD GUIDE exploding kit tens\\nyou only need this if you have questions about specific cards\\nIf you drew an Exploding Kitten, you can play \\nthis card instead of dying. Place your Defuse \\nCard in the \\nDiscard Pile.\\nWant to hurt the player right after you? Put the \\nKitten right on top of the deck. If you’d like,'), 226.9385144303544), (Document(metadata={'id': 'data\\\\pdfs\\\\EK_party_pack.pdf:0:2', 'page': 0, 'source': 'data\\\\pdfs\\\\EK_party_pack.pdf'}, page_content='in the middle of the table. \\n(Be sure to leave some space for a Discard Pile as well.)This is your Draw Pile.Insert enough Exploding Kittens back into \\nthe deck so that there is 1 fewer than the \\nnumber of people playing. Remove any \\nextra Exploding Kittens from the game.\\nFor a 4 player game, insert 3 Kittens.\\nFor a 3 player game, insert 2 Kittens.\\nThis ensures that everyone eventually \\nexplodes except for 1 person.\\nNote: For a 2 - 3 player game, the Exploding Kittens you \\ninsert will be the only cards that do not have paw prints.Shuffle the deck and deal 7 cards face down \\nto each player. Everyone now has a hand \\nof 8 cards total (including the Defuse Card).Remove all of the Defuse Cards from \\nthe deck and deal 1 to each player.\\nInsert any extra Defuse Cards back'), 229.75515069063277), (Document(metadata={'id': 'data\\\\pdfs\\\\EK_party_pack.pdf:0:5', 'page': 0, 'source': 'data\\\\pdfs\\\\EK_party_pack.pdf'}, page_content='Exploding Kittens. You play the game \\nby putting the deck face down and taking \\nturns drawing cards until someone draws \\nan Exploding Kitten.how it worksREADING IS THE WORST WAY TO\\nLEARN HOW TO PLAY A GAME.\\nINSTEAD, GO ONLINE and watch\\nour instructional video:HEY! DON’T READ THESE RULES!\\nWWW.EXPLODINGKITTENS.COM/HOW\\nPARTY PACK!\\nthe rulesexploding kit tens\\nplayers: 2  -10\\ncontents: 122 cards\\nPass-or-Play then Draw. \\nPass-or-Play then Draw.Play continues clockwise around the table.PASS\\nPLAYor\\nRead the text on a card to \\nlearn what it does.WHAT I DO\\nCRUNCH\\nMUNCH\\nMUNCH\\nStop the action of another Player.\\nYou can play this at any time.feed your opponent a nope sandwich\\nwith extra nopesaucenopenope\\nStop the action of another Player.'), 240.67995907329103), (Document(metadata={'id': 'data\\\\pdfs\\\\EK_party_pack.pdf:1:1', 'page': 1, 'source': 'data\\\\pdfs\\\\EK_party_pack.pdf'}, page_content='to name the card you want from \\nthe other player. If they have it, \\nyou get to take it. If not, \\nyou get nothing.Feral cat\\nUse as any Cat Card (any card that is \\npowerless on its own). This card cannot be \\nused as a non-Cat Card (Shuffle, Attack, etc).\\ncat CardsForce any other player to give you 1 card \\nfrom their hand. They choose which card to \\ngive you.\\nfavor\\nEnd your turn by drawing the bottom card from \\nthe Draw Pile.Draw from The bottom\\nshuffle\\nShuffle the Draw Pile thoroughly. (Useful when \\nyou know there’s an Exploding Kitten coming.)Immediately end your turn without drawing a \\ncard. \\nskipYou must show this card immediately. Unless \\nyou have a Defuse Card, you’re dead. Discard \\nall of your cards, including the Exploding Kitten.\\nExploding Kitten'), 241.0338170122362)]\n"
     ]
    },
    {
     "data": {
      "text/plain": [
       "'Response:  Each player starts with a Defuse Card and 7 other cards (8 cards total) in their hand in Exploding Kittens.'"
      ]
     },
     "execution_count": 10,
     "metadata": {},
     "output_type": "execute_result"
    }
   ],
   "execution_count": 10
  },
  {
   "metadata": {
    "ExecuteTime": {
     "end_time": "2024-08-18T23:33:37.677107Z",
     "start_time": "2024-08-18T23:33:31.373923Z"
    }
   },
   "cell_type": "code",
   "source": "query_rag(\"How do I win in Exploding Kittens?\")\n",
   "id": "37eed0fae5c48226",
   "outputs": [
    {
     "name": "stdout",
     "output_type": "stream",
     "text": [
      "Response:  To win in the game of Exploding Kittens, you need to be the last player remaining in the game after all other players have either exploded (by drawing an Exploding Kitten) or chosen to use a Defuse Card. The goal is to avoid drawing an Exploding Kitten as much as possible, while also attempting to force other players to draw one using various attack cards. The more Defuse Cards you have, the better your chances of surviving an Exploding Kitten. The game continues until there's only 1 player left, who wins the game.\n",
      "\n",
      "Sources: ['data\\\\pdfs\\\\EK_party_pack.pdf:0:4', 'data\\\\pdfs\\\\EK_party_pack.pdf:0:3', 'data\\\\pdfs\\\\EK_party_pack.pdf:1:2', 'data\\\\pdfs\\\\EK_party_pack.pdf:0:0', 'data\\\\pdfs\\\\EK_party_pack.pdf:0:5']\n"
     ]
    },
    {
     "data": {
      "text/plain": [
       "\"Response:  To win in the game of Exploding Kittens, you need to be the last player remaining in the game after all other players have either exploded (by drawing an Exploding Kitten) or chosen to use a Defuse Card. The goal is to avoid drawing an Exploding Kitten as much as possible, while also attempting to force other players to draw one using various attack cards. The more Defuse Cards you have, the better your chances of surviving an Exploding Kitten. The game continues until there's only 1 player left, who wins the game.\\n\\nSources: ['data\\\\\\\\pdfs\\\\\\\\EK_party_pack.pdf:0:4', 'data\\\\\\\\pdfs\\\\\\\\EK_party_pack.pdf:0:3', 'data\\\\\\\\pdfs\\\\\\\\EK_party_pack.pdf:1:2', 'data\\\\\\\\pdfs\\\\\\\\EK_party_pack.pdf:0:0', 'data\\\\\\\\pdfs\\\\\\\\EK_party_pack.pdf:0:5']\""
      ]
     },
     "execution_count": 5,
     "metadata": {},
     "output_type": "execute_result"
    }
   ],
   "execution_count": 5
  },
  {
   "metadata": {
    "ExecuteTime": {
     "end_time": "2024-08-18T23:35:03.289357Z",
     "start_time": "2024-08-18T23:34:58.564635Z"
    }
   },
   "cell_type": "code",
   "source": "query_rag(\"How many Trains do I start with in Ticket to Ride?\")",
   "id": "76cf79c3077d33b1",
   "outputs": [
    {
     "name": "stdout",
     "output_type": "stream",
     "text": [
      "Response: 4 trains (since each player is dealt a starting hand of 4 cards)\n",
      "\n",
      "Sources: ['data\\\\pdfs\\\\7f-ticket-to-ride-rulebook.pdf:1:3', 'data\\\\pdfs\\\\7f-ticket-to-ride-rulebook.pdf:1:1', 'data\\\\pdfs\\\\7f-ticket-to-ride-rulebook.pdf:2:1', 'data\\\\pdfs\\\\7f-ticket-to-ride-rulebook.pdf:3:5', 'data\\\\pdfs\\\\7f-ticket-to-ride-rulebook.pdf:3:3']\n"
     ]
    },
    {
     "data": {
      "text/plain": [
       "\"Response: 4 trains (since each player is dealt a starting hand of 4 cards)\\n\\nSources: ['data\\\\\\\\pdfs\\\\\\\\7f-ticket-to-ride-rulebook.pdf:1:3', 'data\\\\\\\\pdfs\\\\\\\\7f-ticket-to-ride-rulebook.pdf:1:1', 'data\\\\\\\\pdfs\\\\\\\\7f-ticket-to-ride-rulebook.pdf:2:1', 'data\\\\\\\\pdfs\\\\\\\\7f-ticket-to-ride-rulebook.pdf:3:5', 'data\\\\\\\\pdfs\\\\\\\\7f-ticket-to-ride-rulebook.pdf:3:3']\""
      ]
     },
     "execution_count": 6,
     "metadata": {},
     "output_type": "execute_result"
    }
   ],
   "execution_count": 6
  },
  {
   "metadata": {
    "ExecuteTime": {
     "end_time": "2024-08-18T23:36:36.139016Z",
     "start_time": "2024-08-18T23:36:31.208666Z"
    }
   },
   "cell_type": "code",
   "source": "",
   "id": "285fd4be4ac8662f",
   "outputs": [
    {
     "name": "stdout",
     "output_type": "stream",
     "text": [
      "Response:  The text does not provide any information about favorite colors, as it is only related to a board game called Ticket to Ride.\n",
      "\n",
      "Sources: ['data\\\\pdfs\\\\7f-ticket-to-ride-rulebook.pdf:3:4', 'data\\\\pdfs\\\\7f-ticket-to-ride-rulebook.pdf:3:3', 'data\\\\pdfs\\\\7f-ticket-to-ride-rulebook.pdf:2:1', 'data\\\\pdfs\\\\EK_party_pack.pdf:0:1', 'data\\\\pdfs\\\\7f-ticket-to-ride-rulebook.pdf:2:5']\n"
     ]
    },
    {
     "data": {
      "text/plain": [
       "\"Response:  The text does not provide any information about favorite colors, as it is only related to a board game called Ticket to Ride.\\n\\nSources: ['data\\\\\\\\pdfs\\\\\\\\7f-ticket-to-ride-rulebook.pdf:3:4', 'data\\\\\\\\pdfs\\\\\\\\7f-ticket-to-ride-rulebook.pdf:3:3', 'data\\\\\\\\pdfs\\\\\\\\7f-ticket-to-ride-rulebook.pdf:2:1', 'data\\\\\\\\pdfs\\\\\\\\EK_party_pack.pdf:0:1', 'data\\\\\\\\pdfs\\\\\\\\7f-ticket-to-ride-rulebook.pdf:2:5']\""
      ]
     },
     "execution_count": 7,
     "metadata": {},
     "output_type": "execute_result"
    }
   ],
   "execution_count": 7
  },
  {
   "metadata": {},
   "cell_type": "code",
   "outputs": [],
   "execution_count": null,
   "source": "",
   "id": "7ea105a925f6e4e"
  }
 ],
 "metadata": {
  "kernelspec": {
   "display_name": "Python 3",
   "language": "python",
   "name": "python3"
  },
  "language_info": {
   "codemirror_mode": {
    "name": "ipython",
    "version": 2
   },
   "file_extension": ".py",
   "mimetype": "text/x-python",
   "name": "python",
   "nbconvert_exporter": "python",
   "pygments_lexer": "ipython2",
   "version": "2.7.6"
  }
 },
 "nbformat": 4,
 "nbformat_minor": 5
}
